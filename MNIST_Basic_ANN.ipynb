{
  "nbformat": 4,
  "nbformat_minor": 0,
  "metadata": {
    "colab": {
      "name": "MNIST_Basic_ANN.ipynb",
      "provenance": [],
      "collapsed_sections": []
    },
    "kernelspec": {
      "name": "python3",
      "display_name": "Python 3"
    },
    "language_info": {
      "name": "python"
    }
  },
  "cells": [
    {
      "cell_type": "code",
      "source": [
        "import tensorflow as tf\n",
        "\n",
        "(x_train, y_train), (x_test, y_test) = tf.keras.datasets.mnist.load_data()"
      ],
      "metadata": {
        "id": "saj5Ny7nVH-E",
        "colab": {
          "base_uri": "https://localhost:8080/"
        },
        "outputId": "76c45dae-dc27-47b5-afc1-7d72736f1f03"
      },
      "execution_count": 1,
      "outputs": [
        {
          "output_type": "stream",
          "name": "stdout",
          "text": [
            "Downloading data from https://storage.googleapis.com/tensorflow/tf-keras-datasets/mnist.npz\n",
            "11493376/11490434 [==============================] - 0s 0us/step\n",
            "11501568/11490434 [==============================] - 0s 0us/step\n"
          ]
        }
      ]
    },
    {
      "cell_type": "code",
      "source": [
        "import matplotlib.pyplot as plt\n",
        "\n",
        "%matplotlib inline\n",
        "image_index = 7777 # You may select anything up to 60,000\n",
        "print(y_train[image_index]) # The label is 8\n",
        "plt.imshow(x_train[image_index], cmap='Greys')"
      ],
      "metadata": {
        "colab": {
          "base_uri": "https://localhost:8080/",
          "height": 302
        },
        "id": "AObzJkwXWD3i",
        "outputId": "a984bec8-a6bf-4304-8514-5fcc5d9d1fa4"
      },
      "execution_count": 2,
      "outputs": [
        {
          "output_type": "stream",
          "name": "stdout",
          "text": [
            "8\n"
          ]
        },
        {
          "output_type": "execute_result",
          "data": {
            "text/plain": [
              "<matplotlib.image.AxesImage at 0x7fc5c7b03b10>"
            ]
          },
          "metadata": {},
          "execution_count": 2
        },
        {
          "output_type": "display_data",
          "data": {
            "image/png": "[encoded data removed]",
            "text/plain": [
              "<Figure size 432x288 with 1 Axes>"
            ]
          },
          "metadata": {
            "needs_background": "light"
          }
        }
      ]
    },
    {
      "cell_type": "code",
      "source": [
        "x_train.shape"
      ],
      "metadata": {
        "colab": {
          "base_uri": "https://localhost:8080/"
        },
        "id": "h4l1jOWIWIJM",
        "outputId": "041a5009-8700-4542-b640-322672bae3f9"
      },
      "execution_count": 3,
      "outputs": [
        {
          "output_type": "execute_result",
          "data": {
            "text/plain": [
              "(60000, 28, 28)"
            ]
          },
          "metadata": {},
          "execution_count": 3
        }
      ]
    },
    {
      "cell_type": "code",
      "source": [
        "x_train = x_train.astype('float32')\n",
        "x_test = x_test.astype('float32')\n",
        "# Normalizing the RGB codes by dividing it to the max RGB value.\n",
        "x_train /= 255\n",
        "x_test /= 255\n",
        "print('x_train shape:', x_train.shape)\n",
        "print('Number of images in x_train', x_train.shape[0])\n",
        "print('Number of images in x_test', x_test.shape[0])"
      ],
      "metadata": {
        "colab": {
          "base_uri": "https://localhost:8080/"
        },
        "id": "BWiwVT-sWX5p",
        "outputId": "802f69c1-6a90-4b23-e597-e79cd6e972ab"
      },
      "execution_count": 4,
      "outputs": [
        {
          "output_type": "stream",
          "name": "stdout",
          "text": [
            "x_train shape: (60000, 28, 28)\n",
            "Number of images in x_train 60000\n",
            "Number of images in x_test 10000\n"
          ]
        }
      ]
    },
    {
      "cell_type": "code",
      "source": [
        "from tensorflow.keras.models import Sequential\n",
        "from tensorflow.keras.layers import Dense, Dropout, Flatten\n",
        "\n",
        "# Overkill - This model will get above 97% accuracy for test set (longer to train)\n",
        "# model = Sequential()\n",
        "# model.add(Flatten())\n",
        "# model.add(Dense(256, activation=\"relu\"))\n",
        "# model.add(Dense(512, activation=\"relu\"))\n",
        "# model.add(Dropout(0.2))\n",
        "# model.add(Dense(128, activation=\"relu\"))\n",
        "# model.add(Dense(10, activation=\"softmax\"))\n",
        "\n",
        "# This is a much simpler model\n",
        "model = Sequential()\n",
        "model.add(Flatten(input_shape=(28,28)))\n",
        "model.add(Dense(5, activation='sigmoid'))\n",
        "model.add(Dense(10, activation=\"softmax\"))"
      ],
      "metadata": {
        "id": "y8pTCDwNbOCo"
      },
      "execution_count": 5,
      "outputs": []
    },
    {
      "cell_type": "code",
      "source": [
        "model.summary()"
      ],
      "metadata": {
        "colab": {
          "base_uri": "https://localhost:8080/"
        },
        "id": "hr03XzQjfIQg",
        "outputId": "d422c31a-da04-4eae-e9d2-d2ca66ed48cd"
      },
      "execution_count": 6,
      "outputs": [
        {
          "output_type": "stream",
          "name": "stdout",
          "text": [
            "Model: \"sequential\"\n",
            "_________________________________________________________________\n",
            " Layer (type)                Output Shape              Param #   \n",
            "=================================================================\n",
            " flatten (Flatten)           (None, 784)               0         \n",
            "                                                                 \n",
            " dense (Dense)               (None, 5)                 3925      \n",
            "                                                                 \n",
            " dense_1 (Dense)             (None, 10)                60        \n",
            "                                                                 \n",
            "=================================================================\n",
            "Total params: 3,985\n",
            "Trainable params: 3,985\n",
            "Non-trainable params: 0\n",
            "_________________________________________________________________\n"
          ]
        }
      ]
    },
    {
      "cell_type": "code",
      "source": [
        "model.compile(optimizer='adam',\n",
        "              loss='sparse_categorical_crossentropy',\n",
        "              metrics=['accuracy'])\n",
        "history = model.fit(x=x_train,\n",
        "            y=y_train,\n",
        "            epochs=20,\n",
        "            validation_data=(x_test, y_test),\n",
        "            )"
      ],
      "metadata": {
        "colab": {
          "base_uri": "https://localhost:8080/"
        },
        "id": "MvTSNVQyb8Cz",
        "outputId": "6fcb2add-e373-4dcd-c2ca-7df6769603b3"
      },
      "execution_count": 7,
      "outputs": [
        {
          "output_type": "stream",
          "name": "stdout",
          "text": [
            "Epoch 1/20\n",
            "1875/1875 [==============================] - 4s 2ms/step - loss: 1.4109 - accuracy: 0.6346 - val_loss: 0.9799 - val_accuracy: 0.7428\n",
            "Epoch 2/20\n",
            "1875/1875 [==============================] - 3s 2ms/step - loss: 0.8297 - accuracy: 0.7746 - val_loss: 0.7127 - val_accuracy: 0.8009\n",
            "Epoch 3/20\n",
            "1875/1875 [==============================] - 3s 2ms/step - loss: 0.6509 - accuracy: 0.8156 - val_loss: 0.6026 - val_accuracy: 0.8214\n",
            "Epoch 4/20\n",
            "1875/1875 [==============================] - 3s 2ms/step - loss: 0.5702 - accuracy: 0.8307 - val_loss: 0.5519 - val_accuracy: 0.8310\n",
            "Epoch 5/20\n",
            "1875/1875 [==============================] - 3s 2ms/step - loss: 0.5245 - accuracy: 0.8446 - val_loss: 0.5190 - val_accuracy: 0.8482\n",
            "Epoch 6/20\n",
            "1875/1875 [==============================] - 3s 2ms/step - loss: 0.4912 - accuracy: 0.8614 - val_loss: 0.4907 - val_accuracy: 0.8676\n",
            "Epoch 7/20\n",
            "1875/1875 [==============================] - 3s 2ms/step - loss: 0.4643 - accuracy: 0.8740 - val_loss: 0.4714 - val_accuracy: 0.8735\n",
            "Epoch 8/20\n",
            "1875/1875 [==============================] - 3s 2ms/step - loss: 0.4452 - accuracy: 0.8798 - val_loss: 0.4578 - val_accuracy: 0.8754\n",
            "Epoch 9/20\n",
            "1875/1875 [==============================] - 3s 2ms/step - loss: 0.4325 - accuracy: 0.8825 - val_loss: 0.4469 - val_accuracy: 0.8780\n",
            "Epoch 10/20\n",
            "1875/1875 [==============================] - 3s 2ms/step - loss: 0.4224 - accuracy: 0.8848 - val_loss: 0.4431 - val_accuracy: 0.8789\n",
            "Epoch 11/20\n",
            "1875/1875 [==============================] - 3s 2ms/step - loss: 0.4154 - accuracy: 0.8863 - val_loss: 0.4342 - val_accuracy: 0.8816\n",
            "Epoch 12/20\n",
            "1875/1875 [==============================] - 3s 2ms/step - loss: 0.4099 - accuracy: 0.8870 - val_loss: 0.4323 - val_accuracy: 0.8841\n",
            "Epoch 13/20\n",
            "1875/1875 [==============================] - 3s 2ms/step - loss: 0.4055 - accuracy: 0.8884 - val_loss: 0.4331 - val_accuracy: 0.8816\n",
            "Epoch 14/20\n",
            "1875/1875 [==============================] - 3s 2ms/step - loss: 0.4012 - accuracy: 0.8895 - val_loss: 0.4305 - val_accuracy: 0.8810\n",
            "Epoch 15/20\n",
            "1875/1875 [==============================] - 3s 2ms/step - loss: 0.3977 - accuracy: 0.8908 - val_loss: 0.4235 - val_accuracy: 0.8839\n",
            "Epoch 16/20\n",
            "1875/1875 [==============================] - 3s 2ms/step - loss: 0.3955 - accuracy: 0.8903 - val_loss: 0.4214 - val_accuracy: 0.8838\n",
            "Epoch 17/20\n",
            "1875/1875 [==============================] - 3s 2ms/step - loss: 0.3923 - accuracy: 0.8918 - val_loss: 0.4248 - val_accuracy: 0.8837\n",
            "Epoch 18/20\n",
            "1875/1875 [==============================] - 3s 2ms/step - loss: 0.3898 - accuracy: 0.8915 - val_loss: 0.4220 - val_accuracy: 0.8842\n",
            "Epoch 19/20\n",
            "1875/1875 [==============================] - 3s 2ms/step - loss: 0.3888 - accuracy: 0.8913 - val_loss: 0.4205 - val_accuracy: 0.8847\n",
            "Epoch 20/20\n",
            "1875/1875 [==============================] - 3s 2ms/step - loss: 0.3864 - accuracy: 0.8918 - val_loss: 0.4226 - val_accuracy: 0.8837\n"
          ]
        }
      ]
    },
    {
      "cell_type": "code",
      "source": [
        "import matplotlib.pyplot as plt\n",
        "\n",
        "plt.plot(history.history['loss'])\n",
        "plt.plot(history.history['val_loss'])\n",
        "plt.title('Loss Curve')\n",
        "plt.ylabel('loss')\n",
        "plt.xlabel('steps')\n",
        "plt.legend(['train', 'test'], loc='upper left')\n",
        "plt.show()"
      ],
      "metadata": {
        "colab": {
          "base_uri": "https://localhost:8080/",
          "height": 295
        },
        "id": "cNiqKx93baOW",
        "outputId": "319f0c22-1662-4292-c22c-5f12e7a8122b"
      },
      "execution_count": 8,
      "outputs": [
        {
          "output_type": "display_data",
          "data": {
            "image/png": "[encoded data removed]",
            "text/plain": [
              "<Figure size 432x288 with 1 Axes>"
            ]
          },
          "metadata": {
            "needs_background": "light"
          }
        }
      ]
    },
    {
      "cell_type": "code",
      "source": [
        "import matplotlib.pyplot as plt\n",
        "\n",
        "plt.plot(history.history['accuracy'])\n",
        "plt.plot(history.history['val_accuracy'])\n",
        "plt.title('Accuracy')\n",
        "plt.ylabel('accuracy')\n",
        "plt.xlabel('steps')\n",
        "plt.legend(['train', 'test'], loc='upper left')\n",
        "plt.show()"
      ],
      "metadata": {
        "colab": {
          "base_uri": "https://localhost:8080/",
          "height": 295
        },
        "id": "c-PCJZvLg8_O",
        "outputId": "fd595d41-05c5-48a3-82ff-70a9d99e9b6b"
      },
      "execution_count": 9,
      "outputs": [
        {
          "output_type": "display_data",
          "data": {
            "image/png": "[encoded data removed]",
            "text/plain": [
              "<Figure size 432x288 with 1 Axes>"
            ]
          },
          "metadata": {
            "needs_background": "light"
          }
        }
      ]
    },
    {
      "cell_type": "code",
      "source": [
        "model.summary()"
      ],
      "metadata": {
        "colab": {
          "base_uri": "https://localhost:8080/"
        },
        "id": "8ff86kDKp2ji",
        "outputId": "b45a9a0a-df3f-4b83-d1ef-55dfef3a362e"
      },
      "execution_count": 10,
      "outputs": [
        {
          "output_type": "stream",
          "name": "stdout",
          "text": [
            "Model: \"sequential\"\n",
            "_________________________________________________________________\n",
            " Layer (type)                Output Shape              Param #   \n",
            "=================================================================\n",
            " flatten (Flatten)           (None, 784)               0         \n",
            "                                                                 \n",
            " dense (Dense)               (None, 5)                 3925      \n",
            "                                                                 \n",
            " dense_1 (Dense)             (None, 10)                60        \n",
            "                                                                 \n",
            "=================================================================\n",
            "Total params: 3,985\n",
            "Trainable params: 3,985\n",
            "Non-trainable params: 0\n",
            "_________________________________________________________________\n"
          ]
        }
      ]
    },
    {
      "cell_type": "code",
      "source": [
        "import tensorflow as tf\n",
        "tf.keras.utils.plot_model(model)"
      ],
      "metadata": {
        "colab": {
          "base_uri": "https://localhost:8080/",
          "height": 369
        },
        "id": "4yThq1VfwNB_",
        "outputId": "2868f153-3352-4e31-a827-b1a41b7a64b3"
      },
      "execution_count": 11,
      "outputs": [
        {
          "output_type": "execute_result",
          "data": {
            "image/png": "[encoded data removed]",
            "text/plain": [
              "<IPython.core.display.Image object>"
            ]
          },
          "metadata": {},
          "execution_count": 11
        }
      ]
    },
    {
      "cell_type": "code",
      "source": [
        "weights = []\n",
        "for layer in model.layers:\n",
        "    weights.append(list(layer.weights))"
      ],
      "metadata": {
        "id": "_LtACB1fou9E"
      },
      "execution_count": 12,
      "outputs": []
    },
    {
      "cell_type": "code",
      "source": [
        "d1_W = weights[1]\n",
        "d2_W = weights[2]\n",
        "# d3_W = weights[4]\n",
        "# d4_W = weights[5]"
      ],
      "metadata": {
        "id": "WDIKANxfpjZx"
      },
      "execution_count": 16,
      "outputs": []
    },
    {
      "cell_type": "markdown",
      "source": [
        "first output is weights and the second one is biases"
      ],
      "metadata": {
        "id": "Rh2C84Yi70Tx"
      }
    },
    {
      "cell_type": "code",
      "source": [
        "print(\"Desnse 1 weight dimensions: \", d1_W[0].shape)\n",
        "print()\n",
        "print(\"Desnse 2 weight dimensions: \", d2_W[0].shape)\n",
        "print()\n",
        "# print(\"Desnse 3 weight dimensions: \", d3_W[0].shape)\n",
        "# print()\n",
        "# print(\"Desnse 4 weight dimensions: \", d4_W[0].shape)\n",
        "# print()"
      ],
      "metadata": {
        "colab": {
          "base_uri": "https://localhost:8080/"
        },
        "id": "Xq88tQVkr_An",
        "outputId": "1d30580c-00c9-4f63-cbf3-7a9fb0d90982"
      },
      "execution_count": 17,
      "outputs": [
        {
          "output_type": "stream",
          "name": "stdout",
          "text": [
            "Desnse 1 weight dimensions:  (784, 5)\n",
            "\n",
            "Desnse 2 weight dimensions:  (5, 10)\n",
            "\n"
          ]
        }
      ]
    },
    {
      "cell_type": "code",
      "source": [
        "d1_W[0][:, 0]"
      ],
      "metadata": {
        "colab": {
          "base_uri": "https://localhost:8080/"
        },
        "id": "X1RdMbe0sBPM",
        "outputId": "8b15f9cc-dfff-4aa5-d8f6-4de12e38ca00"
      },
      "execution_count": 18,
      "outputs": [
        {
          "output_type": "execute_result",
          "data": {
            "text/plain": [
              "<tf.Tensor: shape=(784,), dtype=float32, numpy=\n",
              "array([ 1.87747255e-02,  2.92847455e-02, -2.20142305e-03,  9.93192196e-03,\n",
              "       -6.68144301e-02,  1.51031837e-02, -2.85172835e-02, -7.21493810e-02,\n",
              "       -8.35852474e-02,  7.68105686e-03,  6.99596852e-02, -1.45032182e-02,\n",
              "       -2.41862744e-01, -2.53583103e-01,  9.20066610e-02, -2.40950193e-02,\n",
              "        7.55921006e-04,  2.76185051e-02,  8.23017657e-02, -6.24083579e-02,\n",
              "       -2.65618414e-02, -6.19563833e-02,  8.05243999e-02, -6.99588731e-02,\n",
              "        4.07440215e-02, -6.44783005e-02,  1.67775899e-03, -2.72103772e-02,\n",
              "       -5.65914884e-02, -8.55338722e-02,  6.50706887e-03, -5.42950630e-03,\n",
              "        3.36040370e-02,  4.06061023e-01,  9.36115384e-01,  1.02769005e+00,\n",
              "        8.37210536e-01,  1.02212310e+00,  7.42349803e-01,  1.30009568e+00,\n",
              "        1.27679455e+00,  1.06982899e+00,  1.44201994e-01,  7.28241920e-01,\n",
              "        1.07709813e+00,  6.41773701e-01,  6.39384091e-01,  8.98441851e-01,\n",
              "        9.51999009e-01,  8.62173140e-01,  1.00334907e+00,  6.32586300e-01,\n",
              "        5.53687215e-02,  3.93315405e-02, -6.73984885e-02,  7.17247576e-02,\n",
              "        3.54264155e-02, -4.55841683e-02, -4.46691476e-02,  5.12627006e-01,\n",
              "        5.81752121e-01,  4.68997091e-01,  9.03883576e-01,  1.32132030e+00,\n",
              "        1.44451225e+00,  1.85504520e+00,  2.09416342e+00,  2.07962823e+00,\n",
              "        2.04700565e+00,  1.63188291e+00,  8.64766896e-01,  7.99330994e-02,\n",
              "        6.01449251e-01,  5.90722740e-01,  1.11133981e+00,  7.77582228e-01,\n",
              "        9.10528362e-01,  8.81100118e-01,  9.44249392e-01,  1.36570752e+00,\n",
              "        5.43837667e-01,  2.22513184e-01,  3.56999412e-02, -6.66997433e-02,\n",
              "        3.47908288e-02,  1.26077756e-02,  1.77261680e-02,  6.22101724e-01,\n",
              "        5.49106896e-01,  7.03078091e-01,  1.00287652e+00,  1.62685835e+00,\n",
              "        1.94007373e+00,  1.39603078e+00,  5.86797714e-01,  8.27927947e-01,\n",
              "        1.22411883e+00,  2.42172837e+00,  9.82495785e-01,  1.33019483e+00,\n",
              "        6.15114212e-01,  1.35832012e-01,  9.37147915e-01,  5.50667703e-01,\n",
              "        6.12584412e-01,  3.96611124e-01,  1.69887453e-01,  6.62206948e-01,\n",
              "        5.17223358e-01,  1.71141252e-01, -5.36960065e-01,  4.33973372e-02,\n",
              "       -7.24014267e-02,  6.39917105e-02,  3.75025645e-02,  5.31408548e-01,\n",
              "        3.30076776e-02, -2.54747450e-01,  1.58775121e-01,  1.72940448e-01,\n",
              "        2.67644256e-01,  6.27964318e-01,  3.05849969e-01,  1.25366971e-01,\n",
              "        2.67057240e-01,  3.97540092e-01,  3.87641996e-01,  7.65371144e-01,\n",
              "        3.70546073e-01,  2.99893379e-01,  4.75700229e-01,  6.37515038e-02,\n",
              "       -2.65579313e-01, -3.38526458e-01, -6.96697235e-01, -5.46390533e-01,\n",
              "       -4.90385413e-01,  4.42902029e-01,  5.48237205e-01,  4.92219567e-01,\n",
              "       -3.75189520e-02,  5.87413460e-02,  2.16896050e-02,  6.24310732e-01,\n",
              "       -2.04676315e-01, -2.46836081e-01, -3.22435617e-01, -2.21272595e-02,\n",
              "       -4.35593188e-01,  8.83768052e-02,  4.09546316e-01, -1.20163701e-01,\n",
              "       -5.61622530e-02,  1.16324760e-01,  2.72691041e-01,  9.74575207e-02,\n",
              "        4.51411873e-01,  5.27862310e-01,  2.84481823e-01,  2.96810657e-01,\n",
              "        1.99322551e-01,  5.06836414e-01, -7.03040659e-02, -6.03700936e-01,\n",
              "       -4.78434891e-01, -2.58156508e-01,  8.39478314e-01,  1.74725831e-01,\n",
              "       -5.96618652e-03,  5.66983819e-01, -1.01490296e-01,  1.68698773e-01,\n",
              "       -6.32679909e-02, -5.28540373e-01, -2.58468598e-01,  3.90178934e-02,\n",
              "       -4.13107723e-01, -7.96445757e-02,  9.09342691e-02, -1.43201888e-01,\n",
              "       -3.08876410e-02,  4.80420105e-02, -7.23159909e-02,  5.86867668e-02,\n",
              "       -4.04618010e-02, -1.31064653e-01,  2.40058694e-02,  1.30830124e-01,\n",
              "        1.09470170e-02, -2.15467975e-01, -4.21489850e-02,  8.18701386e-02,\n",
              "       -1.01641238e-01,  7.61504099e-02, -3.09688479e-01,  1.03507531e+00,\n",
              "       -2.02519342e-01,  1.00819242e+00, -2.83457816e-01, -5.85269451e-01,\n",
              "       -5.55124432e-02, -3.86220999e-02,  2.21337140e-01, -2.47479416e-03,\n",
              "       -1.46480054e-01, -6.05697036e-02, -2.93508053e-01, -1.64812192e-01,\n",
              "       -4.73895371e-02, -2.20657215e-01, -6.74207881e-02, -3.40806991e-02,\n",
              "       -1.60359636e-01, -1.82365939e-01, -1.09762222e-01,  4.66406420e-02,\n",
              "       -1.74762532e-01,  1.04049712e-01,  1.30295232e-01, -1.62168089e-02,\n",
              "        1.57497346e-01, -1.48152575e-01, -6.99441969e-01,  8.26447606e-01,\n",
              "        4.92942035e-01,  4.20199662e-01, -1.33006155e-01, -2.94128358e-01,\n",
              "       -4.60772336e-01, -4.53779966e-01, -1.36828437e-01, -7.65935378e-03,\n",
              "       -2.82440305e-01, -2.32381016e-01, -4.81901765e-02, -2.18699127e-01,\n",
              "        1.38130528e-03,  9.05494243e-02, -1.33783281e-01, -2.05334220e-02,\n",
              "        1.24594808e-01, -5.24514951e-02, -8.15851241e-02,  1.87558234e-02,\n",
              "       -2.73428336e-02,  1.42240885e-03,  1.39920801e-01,  2.65161216e-01,\n",
              "       -1.78016499e-02, -5.74877441e-01, -1.37378097e-01,  6.39098942e-01,\n",
              "       -4.79477882e-01,  7.98074678e-02, -4.26984131e-02, -5.55581033e-01,\n",
              "       -2.12447613e-01, -2.10950285e-01, -1.19848303e-01,  9.73188877e-02,\n",
              "        1.23005426e-02,  4.28969879e-03, -8.79433006e-02, -6.79113120e-02,\n",
              "       -2.67617881e-01,  3.49744372e-02,  9.81351733e-03, -1.00796700e-01,\n",
              "       -6.39619380e-02, -1.68167844e-01, -2.22640052e-01, -5.85377328e-02,\n",
              "       -1.62286505e-01,  7.31983483e-02,  8.22172463e-02,  5.75968266e-01,\n",
              "        2.84598202e-01,  9.42231938e-02,  3.01529258e-01,  3.75507295e-01,\n",
              "       -5.47504306e-01,  2.84573175e-02, -4.72552568e-01, -5.50384402e-01,\n",
              "        1.67469546e-01,  1.85120311e-02, -9.43714753e-02, -7.28236586e-02,\n",
              "        6.05498925e-02, -1.22761324e-01,  8.75430368e-03,  7.52345547e-02,\n",
              "       -1.29024446e-01,  8.58850628e-02,  1.09492630e-01, -2.70824969e-01,\n",
              "       -2.19337210e-01, -3.40023935e-02, -1.66788012e-01, -8.76086578e-03,\n",
              "        8.22269395e-02, -4.11000326e-02, -1.34509370e-01,  4.28156525e-01,\n",
              "        5.13878345e-01,  6.74889907e-02,  1.00446618e+00,  3.06476653e-01,\n",
              "       -8.87124479e-01, -2.04204917e-01, -5.72262347e-01,  3.12740117e-01,\n",
              "       -1.59183189e-01, -1.89579017e-02,  3.40031311e-02, -4.28414717e-02,\n",
              "       -3.14862207e-02, -1.07301176e-01, -1.97535545e-01, -2.12834105e-01,\n",
              "       -4.02764320e-01,  5.84055446e-02, -6.57282397e-02, -6.54395998e-01,\n",
              "       -6.54211938e-01, -4.48521942e-01, -3.95750761e-01,  5.55733703e-02,\n",
              "       -2.14211509e-01,  6.23249449e-02,  2.05259159e-01,  5.20932496e-01,\n",
              "        1.20926702e+00,  8.08449626e-01,  5.68742692e-01, -3.89217854e-01,\n",
              "       -6.34874940e-01, -1.63737372e-01, -1.26336527e+00,  4.10930455e-01,\n",
              "       -1.80996343e-01,  2.30973676e-01, -3.63863669e-02, -2.93767303e-01,\n",
              "       -2.77084142e-01, -2.30234414e-01, -2.35147715e-01, -3.38606656e-01,\n",
              "       -2.10456491e-01,  3.92569363e-01,  1.04315646e-01, -3.79285753e-01,\n",
              "       -3.74777794e-01, -2.98398942e-01, -4.93253291e-01, -1.71039477e-01,\n",
              "        1.09041721e-01,  5.00272661e-02, -1.08554617e-01,  6.52668476e-01,\n",
              "        1.13321865e+00,  7.28770018e-01,  6.62771106e-01, -3.63760322e-01,\n",
              "        6.00177586e-01,  3.60539883e-01, -6.29765689e-01,  3.81673545e-01,\n",
              "       -8.31399798e-01, -1.85105026e-01, -1.91007793e-01, -4.09220308e-01,\n",
              "       -2.60730892e-01, -1.73621505e-01, -1.96089059e-01, -1.07992820e-01,\n",
              "        2.48462409e-01,  3.72302175e-01, -1.03994459e-02, -1.74060151e-01,\n",
              "       -2.28813246e-01, -2.99378306e-01, -8.35431814e-02, -1.02551915e-01,\n",
              "       -2.44277641e-01, -3.73078078e-01,  1.34847999e-01,  1.45333886e+00,\n",
              "        1.16032588e+00,  7.11647391e-01,  4.31518108e-01,  7.34229267e-01,\n",
              "        3.48146468e-01, -3.74164641e-01, -1.83301512e-02, -1.50720209e-01,\n",
              "       -9.84340668e-01, -1.75667167e-01, -2.97405571e-01, -4.22950745e-01,\n",
              "       -2.27377564e-01, -1.03014052e-01, -7.50876367e-02,  3.33627723e-02,\n",
              "        1.01970375e-01,  1.98672324e-01,  1.38162374e-01, -1.27175435e-01,\n",
              "       -2.94648767e-01, -3.82674247e-01, -1.90059692e-01, -3.47467124e-01,\n",
              "       -3.14552873e-01, -4.64185067e-02, -1.77694470e-01,  3.15145344e-01,\n",
              "        7.94877946e-01,  4.82031316e-01,  9.04853225e-01,  4.67419177e-01,\n",
              "        3.46434921e-01, -2.64234006e-01,  4.43452388e-01, -4.50890958e-01,\n",
              "       -7.09799945e-01, -2.37645462e-01, -3.34636271e-01, -3.92360762e-02,\n",
              "       -7.06061348e-02, -3.89164723e-02, -1.71884567e-01, -1.37251109e-01,\n",
              "        2.41629303e-01,  3.17205042e-01,  3.15612376e-01, -2.02718168e-01,\n",
              "       -3.83535802e-01, -2.94200093e-01, -7.81361014e-02, -3.13899547e-01,\n",
              "       -1.67953968e-01, -2.17191074e-02, -4.68552381e-01,  2.22719282e-01,\n",
              "        1.59657264e+00,  9.91647422e-01,  7.07938612e-01,  4.79948938e-01,\n",
              "       -6.24980889e-02,  6.70832455e-01,  8.60612214e-01,  6.21880293e-01,\n",
              "       -1.05863228e-01, -3.10623974e-01, -1.32273929e-02, -2.22918391e-01,\n",
              "       -2.47134298e-01,  1.39687777e-01,  2.30534926e-01,  1.24390684e-01,\n",
              "       -1.73248406e-02,  2.64507532e-01,  2.10606053e-01, -2.29096144e-01,\n",
              "       -2.06461236e-01, -4.38282013e-01, -2.04654485e-01, -2.54057884e-01,\n",
              "       -2.89084435e-01, -2.31206432e-01, -2.85215199e-01,  2.50158787e-01,\n",
              "        8.48044157e-01,  1.54931307e+00,  1.27096069e+00,  3.11691821e-01,\n",
              "       -4.73827422e-02,  8.08832049e-01,  3.90208185e-01,  4.37472224e-01,\n",
              "        3.41211081e-01, -2.65835747e-02,  1.73586026e-01, -7.04181865e-02,\n",
              "       -1.02494933e-01,  1.77830994e-01,  2.53137052e-01,  4.41443861e-01,\n",
              "        5.25780357e-02, -1.17149301e-01, -8.13571885e-02, -3.38752627e-01,\n",
              "       -9.38067660e-02, -1.52398914e-01, -3.22430044e-01,  1.08715631e-01,\n",
              "       -6.17529750e-02, -1.21088162e-01,  1.61339447e-01,  3.18403363e-01,\n",
              "        8.00858498e-01,  7.35156178e-01,  1.11761963e+00,  6.63526595e-01,\n",
              "       -6.41063213e-01,  4.49853510e-01, -6.31455183e-02, -1.51629662e-02,\n",
              "        3.71215045e-01, -1.07508712e-03,  1.66204259e-01,  6.63250834e-02,\n",
              "        1.59092098e-01,  8.69530365e-02,  2.23821193e-01,  1.35733321e-01,\n",
              "        2.84414560e-01,  5.55254444e-02, -9.77241024e-02, -6.35776818e-02,\n",
              "       -1.85403869e-01, -1.18325129e-02,  3.18512251e-03,  5.26238419e-02,\n",
              "       -1.61757603e-01,  1.30674653e-02,  4.82393473e-01,  9.95931804e-01,\n",
              "        1.50238955e+00,  8.29904914e-01, -6.24138236e-01,  4.11708295e-01,\n",
              "        1.94570333e-01,  5.04369855e-01, -8.65824372e-02, -6.57335997e-01,\n",
              "       -1.68725654e-01, -1.02524959e-01, -3.13425660e-02,  1.65899292e-01,\n",
              "        3.52540791e-01,  5.75280905e-01,  5.13964415e-01,  3.89195383e-01,\n",
              "        3.13733637e-01,  3.19747299e-01, -1.16804630e-01,  8.15116987e-02,\n",
              "        2.44167387e-01,  3.24239135e-01,  3.66973251e-01,  1.73908532e-01,\n",
              "        4.34083790e-01,  4.18917060e-01,  1.43587172e+00,  1.61506629e+00,\n",
              "        1.60890567e+00,  4.87287939e-01,  7.02031910e-01,  8.34132850e-01,\n",
              "       -7.84745887e-02,  6.00484788e-01,  1.10080056e-01,  1.35884196e-01,\n",
              "        3.21777731e-01,  5.48316956e-01,  3.67338717e-01,  4.43355292e-01,\n",
              "        3.17971528e-01,  5.60783982e-01,  5.89035034e-01,  5.01892805e-01,\n",
              "        3.82800043e-01,  2.76555359e-01,  3.27861458e-01,  2.91891843e-01,\n",
              "        1.60147399e-01,  2.11070567e-01,  4.85028833e-01,  6.05886161e-01,\n",
              "        6.04753971e-01,  5.92422485e-01,  7.53607035e-01,  8.11130226e-01,\n",
              "        2.96829939e-01, -1.30264908e-01,  8.54296446e-01,  4.14061993e-01,\n",
              "        1.54386297e-01,  6.88670516e-01,  1.20243251e+00,  1.41561282e+00,\n",
              "        7.77739286e-01,  1.18759263e+00,  1.01937389e+00,  4.68883157e-01,\n",
              "        2.71781161e-02,  2.38505572e-01,  1.32325530e-01,  4.00886148e-01,\n",
              "        3.44567150e-01,  3.67577106e-01,  4.13817376e-01,  4.95915502e-01,\n",
              "        2.60652393e-01,  4.14690852e-01,  3.33766162e-01,  2.10411519e-01,\n",
              "        2.92699561e-02,  1.97089776e-01,  2.95681983e-01,  5.30366004e-01,\n",
              "       -9.04687196e-02,  2.13563606e-01,  7.36267388e-01, -2.91844308e-02,\n",
              "        2.30641127e-01,  2.22912058e-01,  1.81758416e+00,  1.12624323e+00,\n",
              "        1.06343102e+00,  3.23303223e-01,  4.00307119e-01,  2.88427740e-01,\n",
              "        2.39504352e-02,  1.43248364e-01, -6.99013472e-02,  8.66804346e-02,\n",
              "        2.01401561e-01,  3.68083179e-01,  1.98755205e-01,  2.73992568e-01,\n",
              "        1.81671068e-01,  3.51234198e-01,  1.42457649e-01,  1.89627454e-01,\n",
              "        1.57275870e-01,  3.25283110e-01, -2.81368550e-02,  2.82720417e-01,\n",
              "        3.10821056e-01,  3.05476576e-01,  9.73003268e-01, -2.87543535e-02,\n",
              "        5.06214947e-02, -2.96689868e-02,  1.49448884e+00,  1.26181793e+00,\n",
              "        1.30426422e-01, -3.04459125e-01,  1.41630948e-01, -4.37080525e-02,\n",
              "        1.63019091e-01,  4.17290330e-01,  8.55514407e-02,  2.07129404e-01,\n",
              "        2.13253692e-01,  2.97228962e-01,  1.06144384e-01,  2.12892592e-01,\n",
              "        2.23772317e-01,  7.73351863e-02,  2.16711253e-01,  1.68427557e-01,\n",
              "        3.14803839e-01,  2.02253073e-01, -7.34452754e-02, -8.40135217e-02,\n",
              "        5.39894775e-02,  3.70492399e-01,  5.28052628e-01, -8.24452490e-02,\n",
              "       -4.09259461e-02,  7.07535446e-03,  7.67365634e-01,  4.78953689e-01,\n",
              "       -5.32938540e-01, -1.18232679e+00, -4.00548875e-01, -2.87919659e-02,\n",
              "       -1.54918879e-01,  2.67363667e-01,  4.46562134e-02,  2.81900942e-01,\n",
              "        3.86076897e-01,  2.61503786e-01,  6.03566289e-01,  3.67559999e-01,\n",
              "        4.00756538e-01,  2.57368594e-01,  4.90388095e-01,  3.50425750e-01,\n",
              "        1.84673503e-01, -3.00051123e-01, -4.07810122e-01, -3.60721856e-01,\n",
              "        7.35093653e-01,  3.39053303e-01,  6.44536138e-01,  2.30740979e-02,\n",
              "        8.24344754e-02, -4.89059612e-02,  2.47537702e-01, -6.69464409e-01,\n",
              "       -1.59813368e+00, -1.56028605e+00, -1.65289477e-01, -5.37167251e-01,\n",
              "       -2.01384783e-01,  3.90150063e-02, -1.60714343e-01, -1.56683877e-01,\n",
              "        4.31075692e-02, -7.86191523e-02, -2.83542778e-02,  1.01274289e-01,\n",
              "        1.98542595e-01,  3.77457738e-01,  4.22552824e-01,  2.41822496e-01,\n",
              "       -7.38960803e-01, -6.70416474e-01, -3.20357114e-01, -5.57655573e-01,\n",
              "        5.76460898e-01,  1.23947151e-01,  5.64711273e-01,  5.15431464e-02,\n",
              "        3.52873802e-02, -3.32527459e-02,  1.03348494e-03, -2.85233319e-01,\n",
              "       -1.18890381e+00, -9.24882054e-01, -4.97736901e-01, -5.59482396e-01,\n",
              "       -5.66323996e-01, -8.01610112e-01, -1.91822767e-01, -1.80641785e-01,\n",
              "        8.63868743e-02,  7.40991980e-02, -6.93612158e-01, -1.14171863e-01,\n",
              "        3.75957459e-01,  3.25297713e-01, -8.20619911e-02, -1.01025499e-01,\n",
              "       -4.92139578e-01, -3.06229115e-01, -4.53733653e-01,  1.53995454e-01,\n",
              "        2.04818308e-01, -5.36070019e-02,  1.54942498e-02, -7.88120255e-02,\n",
              "       -5.33319674e-02,  4.48629260e-04,  8.53724778e-04,  7.33805597e-02,\n",
              "       -4.66861017e-02, -3.19348931e-01,  2.76075065e-01,  2.58460402e-01,\n",
              "       -1.49942813e-02, -1.86337519e+00,  1.29216477e-01,  2.82526523e-01,\n",
              "        2.41333619e-01, -7.26257116e-02, -1.01733065e+00, -1.32371724e+00,\n",
              "       -2.87798405e+00, -2.00302649e+00, -7.57442355e-01, -7.29646504e-01,\n",
              "       -5.27598739e-01, -5.03776371e-01, -2.93157727e-01,  2.44488731e-01,\n",
              "        7.99022615e-04, -2.80085281e-02,  5.73112965e-02, -4.92236502e-02],\n",
              "      dtype=float32)>"
            ]
          },
          "metadata": {},
          "execution_count": 18
        }
      ]
    }
  ]
}